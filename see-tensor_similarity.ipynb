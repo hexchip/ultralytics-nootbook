{
 "cells": [
  {
   "cell_type": "code",
   "execution_count": 1,
   "id": "9614f432-076f-490c-a678-362f28425124",
   "metadata": {},
   "outputs": [],
   "source": [
    "import torch\n",
    "import numpy as np\n",
    "import sys\n",
    "\n",
    "def main(tensor_file_path1, tensor_file_path2):\n",
    "    tensor1 = torch.from_numpy(np.loadtxt(tensor_file_path1))\n",
    "    tensor2 = torch.from_numpy(np.loadtxt(tensor_file_path2))\n",
    "    if tensor1.shape == tensor2.shape:\n",
    "        \n",
    "        cos = torch.nn.CosineSimilarity(dim=0)\n",
    "        cos_similarity = cos(tensor1, tensor2)\n",
    "\n",
    "        pdist = torch.nn.PairwiseDistance(p=2)\n",
    "        euclidean_distance = pdist(tensor1, tensor2)\n",
    "  \n",
    "        print(f'cos_similarity: {cos_similarity}')\n",
    "        print(f'euclidean_distance: {euclidean_distance}')\n",
    "    else:\n",
    "        print('[INPUT ERROR]please make sure input tensors have the same shape!')"
   ]
  },
  {
   "cell_type": "code",
   "execution_count": 2,
   "id": "7053c751-07cd-4ab3-9f57-5ce57932f43e",
   "metadata": {},
   "outputs": [
    {
     "name": "stdout",
     "output_type": "stream",
     "text": [
      "cos_similarity: 0.999193800877764\n",
      "euclidean_distance: 513.3966814103762\n"
     ]
    }
   ],
   "source": [
    "main('float_result_84_2100.tensor', 'result_84_2100.tensor')"
   ]
  }
 ],
 "metadata": {
  "kernelspec": {
   "display_name": "Python 3 (ipykernel)",
   "language": "python",
   "name": "python3"
  },
  "language_info": {
   "codemirror_mode": {
    "name": "ipython",
    "version": 3
   },
   "file_extension": ".py",
   "mimetype": "text/x-python",
   "name": "python",
   "nbconvert_exporter": "python",
   "pygments_lexer": "ipython3",
   "version": "3.10.13"
  }
 },
 "nbformat": 4,
 "nbformat_minor": 5
}
