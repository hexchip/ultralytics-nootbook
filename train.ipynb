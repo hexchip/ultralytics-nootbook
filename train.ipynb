{
 "cells": [
  {
   "cell_type": "code",
   "execution_count": null,
   "id": "b4e17f18-3cd8-4ea6-829b-82daebe2a41d",
   "metadata": {},
   "outputs": [],
   "source": [
    "!pip install roboflow"
   ]
  },
  {
   "cell_type": "code",
   "execution_count": 2,
   "id": "4cfa7454-6c1b-4ac2-98d9-69024d2be4ea",
   "metadata": {},
   "outputs": [],
   "source": [
    "from roboflow import Roboflow"
   ]
  },
  {
   "cell_type": "code",
   "execution_count": 3,
   "id": "15c7d194-1a2e-45a6-aaa5-c9587517ac2c",
   "metadata": {},
   "outputs": [],
   "source": [
    "rf_api_key = \"WYSVk2bfCKnJNwgC6wBp\"\n",
    "rf_workspace = \"daydayup\"\n",
    "rf_project = \"cld-test3\"\n",
    "rf_project_version = 7"
   ]
  },
  {
   "cell_type": "code",
   "execution_count": null,
   "id": "fbdc04f2-6c06-4563-bd18-e9621aa84ec3",
   "metadata": {},
   "outputs": [],
   "source": [
    "rf = Roboflow(api_key=rf_api_key)\n",
    "project = rf.workspace(rf_workspace).project(rf_project)\n",
    "dataset = project.version(rf_project_version).download(\"yolov8\")"
   ]
  },
  {
   "cell_type": "code",
   "execution_count": 7,
   "id": "c00f27ab-54c8-43a1-b656-db9c8b915620",
   "metadata": {},
   "outputs": [],
   "source": [
    "from ultralytics import YOLO\n",
    "\n",
    "# Load a COCO-pretrained YOLOv5nu model\n",
    "model = YOLO('yolov5nu.pt')"
   ]
  },
  {
   "cell_type": "code",
   "execution_count": null,
   "id": "71a815f1-d0ae-461b-99da-0a60eb1a3760",
   "metadata": {
    "editable": true,
    "scrolled": true,
    "slideshow": {
     "slide_type": ""
    },
    "tags": []
   },
   "outputs": [],
   "source": [
    "# Train the model on the COCO8 example dataset for 100 epochs\n",
    "results = model.train(data='/workspace/CLD-TEST3-7/data.yaml', epochs=10, workers=3, batch=-1)"
   ]
  },
  {
   "cell_type": "code",
   "execution_count": 10,
   "id": "bd4307cf-98e6-4b57-bcd8-cfd46bac01fd",
   "metadata": {},
   "outputs": [],
   "source": [
    "best_model = YOLO('runs/detect/train2/weights/best.pt')"
   ]
  }
 ],
 "metadata": {
  "kernelspec": {
   "display_name": "Python 3 (ipykernel)",
   "language": "python",
   "name": "python3"
  },
  "language_info": {
   "codemirror_mode": {
    "name": "ipython",
    "version": 3
   },
   "file_extension": ".py",
   "mimetype": "text/x-python",
   "name": "python",
   "nbconvert_exporter": "python",
   "pygments_lexer": "ipython3",
   "version": "3.10.13"
  }
 },
 "nbformat": 4,
 "nbformat_minor": 5
}
