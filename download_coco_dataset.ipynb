{
 "cells": [
  {
   "cell_type": "code",
   "execution_count": 1,
   "id": "f51ec8e2-cf2c-4026-b9bf-26da4150c641",
   "metadata": {},
   "outputs": [],
   "source": [
    "import os"
   ]
  },
  {
   "cell_type": "code",
   "execution_count": 2,
   "id": "1152c574-ca40-451d-aa1a-efef166ed1bd",
   "metadata": {},
   "outputs": [],
   "source": [
    "cocoDir='coco'"
   ]
  },
  {
   "cell_type": "code",
   "execution_count": 3,
   "id": "e878d812-3d2d-419a-8655-6c34dd967421",
   "metadata": {},
   "outputs": [
    {
     "name": "stdout",
     "output_type": "stream",
     "text": [
      "0000\n",
      "1000\n",
      "2000\n"
     ]
    },
    {
     "ename": "NameError",
     "evalue": "name 'filename' is not defined",
     "output_type": "error",
     "traceback": [
      "\u001b[0;31m---------------------------------------------------------------------------\u001b[0m",
      "\u001b[0;31mNameError\u001b[0m                                 Traceback (most recent call last)",
      "Cell \u001b[0;32mIn[3], line 24\u001b[0m\n\u001b[1;32m     13\u001b[0m \u001b[38;5;28mprint\u001b[39m(\u001b[38;5;124m\"\u001b[39m\u001b[38;5;124m2000\u001b[39m\u001b[38;5;124m\"\u001b[39m)\n\u001b[1;32m     14\u001b[0m \u001b[38;5;28;01mif\u001b[39;00m response\u001b[38;5;241m.\u001b[39mstatus_code \u001b[38;5;241m==\u001b[39m \u001b[38;5;241m200\u001b[39m:\n\u001b[1;32m     15\u001b[0m     \u001b[38;5;66;03m# # 指定下载文件的路径和文件名\u001b[39;00m\n\u001b[1;32m     16\u001b[0m     \u001b[38;5;66;03m# filename = 'annotations_trainval2017.zip'\u001b[39;00m\n\u001b[0;32m   (...)\u001b[0m\n\u001b[1;32m     22\u001b[0m     \u001b[38;5;66;03m#             f.write(chunk)\u001b[39;00m\n\u001b[1;32m     23\u001b[0m     \u001b[38;5;66;03m#             bar.update(len(chunk))\u001b[39;00m\n\u001b[0;32m---> 24\u001b[0m     \u001b[38;5;28mprint\u001b[39m(\u001b[38;5;124mf\u001b[39m\u001b[38;5;124m\"\u001b[39m\u001b[38;5;124m文件下载完成，保存为：\u001b[39m\u001b[38;5;132;01m{\u001b[39;00mfilename\u001b[38;5;132;01m}\u001b[39;00m\u001b[38;5;124m\"\u001b[39m)\n\u001b[1;32m     26\u001b[0m     \u001b[38;5;66;03m# os.makedirs(cocoAnnotationsDir)\u001b[39;00m\n\u001b[1;32m     27\u001b[0m     \u001b[38;5;66;03m# # 解压缩文件\u001b[39;00m\n\u001b[1;32m     28\u001b[0m     \u001b[38;5;66;03m# with zipfile.ZipFile(filename, 'r') as zip_ref:\u001b[39;00m\n\u001b[0;32m   (...)\u001b[0m\n\u001b[1;32m     34\u001b[0m     \u001b[38;5;66;03m# print(\"压缩文件已删除。\")\u001b[39;00m\n\u001b[1;32m     35\u001b[0m \u001b[38;5;28;01melse\u001b[39;00m:\n\u001b[1;32m     36\u001b[0m     \u001b[38;5;28mprint\u001b[39m(\u001b[38;5;124mf\u001b[39m\u001b[38;5;124m\"\u001b[39m\u001b[38;5;124m文件下载失败，状态码：\u001b[39m\u001b[38;5;132;01m{\u001b[39;00mresponse\u001b[38;5;241m.\u001b[39mstatus_code\u001b[38;5;132;01m}\u001b[39;00m\u001b[38;5;124m\"\u001b[39m)\n",
      "\u001b[0;31mNameError\u001b[0m: name 'filename' is not defined"
     ]
    }
   ],
   "source": [
    "cocoAnnotationsDir = f\"{cocoDir}/annotations\"\n",
    "\n",
    "if not os.path.exists(cocoAnnotationsDir): \n",
    "    import requests\n",
    "    import zipfile\n",
    "    url = 'http://images.cocodataset.org/annotations/annotations_trainval2017.zip'\n",
    "    # 下载文件，服务器不支持分块下载，耐心等待\n",
    "    response = requests.get(url, stream=True)\n",
    "    if response.status_code == 200:\n",
    "        # 指定下载文件的路径和文件名\n",
    "        filename = 'annotations_trainval2017.zip'\n",
    "        with open(filename, 'wb') as f:\n",
    "            for chunk in response.iter_content(chunk_size=8192):\n",
    "                f.write(chunk)\n",
    "        print(f\"文件下载完成，保存为：{filename}\")\n",
    "\n",
    "        os.makedirs(cocoAnnotationsDir)\n",
    "        # 解压缩文件\n",
    "        with zipfile.ZipFile(filename, 'r') as zip_ref:\n",
    "            zip_ref.extractall(cocoAnnotationsDir)  # 解压缩到指定目录\n",
    "        print(\"文件解压缩完成。\")\n",
    "    \n",
    "        # 删除压缩文件\n",
    "        os.remove(filename)\n",
    "        print(\"压缩文件已删除。\")\n",
    "    else:\n",
    "        print(f\"文件下载失败，状态码：{response.status_code}\")"
   ]
  },
  {
   "cell_type": "code",
   "execution_count": null,
   "id": "9c71ced0-3546-4cfb-9407-46b04a83eacb",
   "metadata": {},
   "outputs": [],
   "source": [
    "!pip install pycocotools"
   ]
  },
  {
   "cell_type": "code",
   "execution_count": 2,
   "id": "d5457217-97ad-4a6b-9a5d-dbc01f7678bb",
   "metadata": {},
   "outputs": [],
   "source": [
    "from pycocotools.coco import COCO"
   ]
  },
  {
   "cell_type": "code",
   "execution_count": null,
   "id": "9f468456-b841-4bd0-92bd-dc099853f85b",
   "metadata": {},
   "outputs": [],
   "source": [
    "# 初始化COCO API以供实例标注使用。\n",
    "dataType='train2017'\n",
    "annFile=f\"{cocoAnnotationsDir}/instances_{dataType}.json\"\n",
    "coco=COCO(annFile)"
   ]
  },
  {
   "cell_type": "code",
   "execution_count": null,
   "id": "ffa19e87-096f-4c49-acca-6d5df5da4556",
   "metadata": {},
   "outputs": [],
   "source": [
    "import numpy as np"
   ]
  },
  {
   "cell_type": "code",
   "execution_count": 6,
   "id": "539243b1-2dd6-47a1-b59b-174261344854",
   "metadata": {
    "scrolled": true
   },
   "outputs": [],
   "source": [
    "# 据文档所述，量化所需图片为500-1000张为佳\n",
    "imagesPerCategory=10\n",
    "\n",
    "imgIds=[]\n",
    "\n",
    "for catId in coco.getCatIds() :\n",
    "    catimgIds = coco.getImgIds(catIds=catId)\n",
    "\n",
    "    # 将catimgIds打乱顺序。\n",
    "    np.random.shuffle(catimgIds)\n",
    "    \n",
    "    # 选择前N张图像并将其添加到imgIds中\n",
    "    imgIds += catimgIds[:imagesPerCategory]\n",
    "\n",
    "# 使用集合去重\n",
    "imgIds = set(imgIds)\n",
    "\n",
    "# 加载指定的图片标注数据\n",
    "imgs = coco.loadImgs(imgIds)"
   ]
  },
  {
   "cell_type": "code",
   "execution_count": null,
   "id": "b8f80a2e-286f-4756-85e8-0d91f2f8e40a",
   "metadata": {},
   "outputs": [],
   "source": [
    "import shutil"
   ]
  },
  {
   "cell_type": "code",
   "execution_count": 13,
   "id": "a731bdf7-3db9-41a9-aa08-6a7ffc2f42c6",
   "metadata": {},
   "outputs": [],
   "source": [
    "downloadDir = f\"{dataDir}/download/{dataType}\"\n",
    "\n",
    "if os.path.exists(downloadDir) and os.path.isdir(downloadDir):\n",
    "    shutil.rmtree(downloadDir)\n",
    "else:\n",
    "    os.makedirs(downloadDir)"
   ]
  },
  {
   "cell_type": "code",
   "execution_count": null,
   "id": "aca714fb-9f0d-4dd9-ad7d-9171af378c50",
   "metadata": {},
   "outputs": [],
   "source": [
    "import requests\n",
    "from requests.adapters import HTTPAdapter\n",
    "from urllib3.util import Retry\n",
    "import time"
   ]
  },
  {
   "cell_type": "code",
   "execution_count": null,
   "id": "46096b14-3cca-4b6d-a7b2-7bab0c5b4698",
   "metadata": {},
   "outputs": [],
   "source": [
    "# 定义重试策略\n",
    "retries = Retry(\n",
    "    total=5,  # 总重试次数\n",
    "    backoff_factor=1,  # 指数退避因子\n",
    "    status_forcelist=[500, 502, 503, 504],  # 指定哪些状态码触发重试\n",
    "    allowed_methods=frozenset(['GET']),  # 允许重试的HTTP方法\n",
    ")\n",
    "\n",
    "# 创建带重试的HTTP适配器\n",
    "adapter = HTTPAdapter(max_retries=retries)\n",
    "\n",
    "# 创建Session对象，并挂载适配器\n",
    "session = requests.Session()\n",
    "session.mount('http://', adapter)\n",
    "session.mount('https://', adapter)\n",
    "\n",
    "imgsLen = len(imgs)\n",
    "\n",
    "# 下载图片\n",
    "for i, img in enumerate(imgs):\n",
    "    tic = time.time()\n",
    "    fname = os.path.join(downloadDir, img['file_name'])\n",
    "    if not os.path.exists(fname):\n",
    "        try:\n",
    "            # 使用 requests 获取图片内容，并设置超时时间\n",
    "            response = session.get(img['coco_url'], timeout=5)\n",
    "            \n",
    "            # 检查请求是否成功\n",
    "            if response.status_code == 200:\n",
    "                with open(fname, 'wb') as f:\n",
    "                    f.write(response.content)\n",
    "                print(f\"Downloaded {i+1}/{imgsLen} {img['file_name']} in {time.time() - tic:.3f}s\")\n",
    "            else:\n",
    "                print(f\"Failed to retrieve {i+1}/{imgsLen} {img['coco_url']}. Status code: {response.status_code}\")\n",
    "        except requests.exceptions.Timeout as e:\n",
    "            print(f\"Request timed out: {e}\")\n",
    "        except requests.exceptions.RequestException as e:\n",
    "            print(f\"Request failed: {e}\")\n",
    "    else:\n",
    "        print(f\"{fname} already exists\")"
   ]
  },
  {
   "cell_type": "code",
   "execution_count": 26,
   "id": "c1086774-8a17-429d-8de2-88607367c6d3",
   "metadata": {},
   "outputs": [],
   "source": [
    "# 获取下载目录下所有图片的绝对路径\n",
    "file_paths = [os.path.join(root, file)\n",
    "              for root, dirs, files in os.walk(downloadDir)\n",
    "              for file in files \n",
    "             ]"
   ]
  },
  {
   "cell_type": "code",
   "execution_count": null,
   "id": "71ef6134-0319-41f0-b2e1-0d90b01915e2",
   "metadata": {},
   "outputs": [],
   "source": [
    "# 存放已经经过预处理的图片\n",
    "preprocessedDir = \"coco/preprocessed\"\n",
    "\n",
    "if not os.path.exists(preprocessedDir):\n",
    "    os.makedirs(preprocessedDir)"
   ]
  },
  {
   "cell_type": "code",
   "execution_count": 15,
   "id": "e26cf5f2-f273-46d1-902c-fd2c6f98aabb",
   "metadata": {},
   "outputs": [],
   "source": [
    "import cv2\n",
    "from letter_box import LetterBox"
   ]
  },
  {
   "cell_type": "code",
   "execution_count": 16,
   "id": "8a101a1f-e8a6-42e4-b51d-08e03b24414d",
   "metadata": {},
   "outputs": [],
   "source": [
    "letterBox = LetterBox()"
   ]
  },
  {
   "cell_type": "code",
   "execution_count": 19,
   "id": "99726476-4e10-4496-a696-f028401cc800",
   "metadata": {},
   "outputs": [],
   "source": [
    "# 预处理图片并保存\n",
    "for file_path in file_paths:\n",
    "    img = cv2.imread(file_path)\n",
    "    img = letterBox(img)\n",
    "    cv2.imwrite(f'{preprocessedDir}/{os.path.basename(file_path)}', img)"
   ]
  },
  {
   "cell_type": "code",
   "execution_count": 28,
   "id": "9e2b0350-92f6-4e13-bd12-fd62b594c7c9",
   "metadata": {},
   "outputs": [],
   "source": [
    "# 生成数据集声明文件\n",
    "dataset_txt_path = \"dataset.txt\"\n",
    "\n",
    "if os.path.exists(dataset_txt_path):\n",
    "    os.remove(dataset_txt_path)\n",
    "    \n",
    "with open(dataset_txt_path, 'w') as file:\n",
    "    for img in imgs:\n",
    "        file.write(f\"./{dataDir}/{dataType}/{img['file_name']} {img['id']}\\n\")"
   ]
  }
 ],
 "metadata": {
  "kernelspec": {
   "display_name": "Python 3 (ipykernel)",
   "language": "python",
   "name": "python3"
  },
  "language_info": {
   "codemirror_mode": {
    "name": "ipython",
    "version": 3
   },
   "file_extension": ".py",
   "mimetype": "text/x-python",
   "name": "python",
   "nbconvert_exporter": "python",
   "pygments_lexer": "ipython3",
   "version": "3.10.13"
  }
 },
 "nbformat": 4,
 "nbformat_minor": 5
}
